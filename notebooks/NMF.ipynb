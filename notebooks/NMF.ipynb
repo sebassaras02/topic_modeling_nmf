{
 "cells": [
  {
   "cell_type": "markdown",
   "metadata": {},
   "source": [
    "# Text clustering \n",
    "\n",
    "Done by: Sebastián Sarasti"
   ]
  },
  {
   "cell_type": "markdown",
   "metadata": {},
   "source": [
    "Import basic libraries"
   ]
  },
  {
   "cell_type": "code",
   "execution_count": 1,
   "metadata": {},
   "outputs": [],
   "source": [
    "import numpy as np\n",
    "import pandas as pd\n",
    "import matplotlib.pyplot as plt\n",
    "import seaborn as sns"
   ]
  },
  {
   "cell_type": "markdown",
   "metadata": {},
   "source": [
    "Load the kedro extension"
   ]
  },
  {
   "cell_type": "code",
   "execution_count": 3,
   "metadata": {},
   "outputs": [
    {
     "data": {
      "text/html": [
       "<pre style=\"white-space:pre;overflow-x:auto;line-height:normal;font-family:Menlo,'DejaVu Sans Mono',consolas,'Courier New',monospace\"><span style=\"color: #7fbfbf; text-decoration-color: #7fbfbf\">[06/22/24 12:30:22] </span><span style=\"color: #000080; text-decoration-color: #000080\">INFO    </span> Registered line magic <span style=\"color: #008000; text-decoration-color: #008000\">'%reload_kedro'</span>                                   <a href=\"file://c:\\Users\\sebit\\.conda\\envs\\kedro\\Lib\\site-packages\\kedro\\ipython\\__init__.py\" target=\"_blank\"><span style=\"color: #7f7f7f; text-decoration-color: #7f7f7f\">__init__.py</span></a><span style=\"color: #7f7f7f; text-decoration-color: #7f7f7f\">:</span><a href=\"file://c:\\Users\\sebit\\.conda\\envs\\kedro\\Lib\\site-packages\\kedro\\ipython\\__init__.py#51\" target=\"_blank\"><span style=\"color: #7f7f7f; text-decoration-color: #7f7f7f\">51</span></a>\n",
       "</pre>\n"
      ],
      "text/plain": [
       "\u001b[2;36m[06/22/24 12:30:22]\u001b[0m\u001b[2;36m \u001b[0m\u001b[34mINFO    \u001b[0m Registered line magic \u001b[32m'%reload_kedro'\u001b[0m                                   \u001b]8;id=531349;file://c:\\Users\\sebit\\.conda\\envs\\kedro\\Lib\\site-packages\\kedro\\ipython\\__init__.py\u001b\\\u001b[2m__init__.py\u001b[0m\u001b]8;;\u001b\\\u001b[2m:\u001b[0m\u001b]8;id=81922;file://c:\\Users\\sebit\\.conda\\envs\\kedro\\Lib\\site-packages\\kedro\\ipython\\__init__.py#51\u001b\\\u001b[2m51\u001b[0m\u001b]8;;\u001b\\\n"
      ]
     },
     "metadata": {},
     "output_type": "display_data"
    },
    {
     "data": {
      "text/html": [
       "<pre style=\"white-space:pre;overflow-x:auto;line-height:normal;font-family:Menlo,'DejaVu Sans Mono',consolas,'Courier New',monospace\"><span style=\"color: #7fbfbf; text-decoration-color: #7fbfbf\">                    </span><span style=\"color: #000080; text-decoration-color: #000080\">INFO    </span> Registered line magic <span style=\"color: #008000; text-decoration-color: #008000\">'%load_node'</span>                                      <a href=\"file://c:\\Users\\sebit\\.conda\\envs\\kedro\\Lib\\site-packages\\kedro\\ipython\\__init__.py\" target=\"_blank\"><span style=\"color: #7f7f7f; text-decoration-color: #7f7f7f\">__init__.py</span></a><span style=\"color: #7f7f7f; text-decoration-color: #7f7f7f\">:</span><a href=\"file://c:\\Users\\sebit\\.conda\\envs\\kedro\\Lib\\site-packages\\kedro\\ipython\\__init__.py#53\" target=\"_blank\"><span style=\"color: #7f7f7f; text-decoration-color: #7f7f7f\">53</span></a>\n",
       "</pre>\n"
      ],
      "text/plain": [
       "\u001b[2;36m                   \u001b[0m\u001b[2;36m \u001b[0m\u001b[34mINFO    \u001b[0m Registered line magic \u001b[32m'%load_node'\u001b[0m                                      \u001b]8;id=573187;file://c:\\Users\\sebit\\.conda\\envs\\kedro\\Lib\\site-packages\\kedro\\ipython\\__init__.py\u001b\\\u001b[2m__init__.py\u001b[0m\u001b]8;;\u001b\\\u001b[2m:\u001b[0m\u001b]8;id=171993;file://c:\\Users\\sebit\\.conda\\envs\\kedro\\Lib\\site-packages\\kedro\\ipython\\__init__.py#53\u001b\\\u001b[2m53\u001b[0m\u001b]8;;\u001b\\\n"
      ]
     },
     "metadata": {},
     "output_type": "display_data"
    },
    {
     "data": {
      "text/html": [
       "<pre style=\"white-space:pre;overflow-x:auto;line-height:normal;font-family:Menlo,'DejaVu Sans Mono',consolas,'Courier New',monospace\"><span style=\"color: #7fbfbf; text-decoration-color: #7fbfbf\">                    </span><span style=\"color: #000080; text-decoration-color: #000080\">INFO    </span> Resolved project path as: c:\\courses\\text-classification               <a href=\"file://c:\\Users\\sebit\\.conda\\envs\\kedro\\Lib\\site-packages\\kedro\\ipython\\__init__.py\" target=\"_blank\"><span style=\"color: #7f7f7f; text-decoration-color: #7f7f7f\">__init__.py</span></a><span style=\"color: #7f7f7f; text-decoration-color: #7f7f7f\">:</span><a href=\"file://c:\\Users\\sebit\\.conda\\envs\\kedro\\Lib\\site-packages\\kedro\\ipython\\__init__.py#164\" target=\"_blank\"><span style=\"color: #7f7f7f; text-decoration-color: #7f7f7f\">164</span></a>\n",
       "<span style=\"color: #7fbfbf; text-decoration-color: #7fbfbf\">                    </span>         platzi\\textclustering.                                                 <span style=\"color: #7f7f7f; text-decoration-color: #7f7f7f\">               </span>\n",
       "<span style=\"color: #7fbfbf; text-decoration-color: #7fbfbf\">                    </span>         To set a different path, run <span style=\"color: #008000; text-decoration-color: #008000\">'%reload_kedro &lt;project_root&gt;'</span>            <span style=\"color: #7f7f7f; text-decoration-color: #7f7f7f\">               </span>\n",
       "</pre>\n"
      ],
      "text/plain": [
       "\u001b[2;36m                   \u001b[0m\u001b[2;36m \u001b[0m\u001b[34mINFO    \u001b[0m Resolved project path as: c:\\courses\\text-classification               \u001b]8;id=364463;file://c:\\Users\\sebit\\.conda\\envs\\kedro\\Lib\\site-packages\\kedro\\ipython\\__init__.py\u001b\\\u001b[2m__init__.py\u001b[0m\u001b]8;;\u001b\\\u001b[2m:\u001b[0m\u001b]8;id=50269;file://c:\\Users\\sebit\\.conda\\envs\\kedro\\Lib\\site-packages\\kedro\\ipython\\__init__.py#164\u001b\\\u001b[2m164\u001b[0m\u001b]8;;\u001b\\\n",
       "\u001b[2;36m                    \u001b[0m         platzi\\textclustering.                                                 \u001b[2m               \u001b[0m\n",
       "\u001b[2;36m                    \u001b[0m         To set a different path, run \u001b[32m'%reload_kedro \u001b[0m\u001b[32m<\u001b[0m\u001b[32mproject_root\u001b[0m\u001b[32m>\u001b[0m\u001b[32m'\u001b[0m            \u001b[2m               \u001b[0m\n"
      ]
     },
     "metadata": {},
     "output_type": "display_data"
    },
    {
     "data": {
      "text/html": [
       "<pre style=\"white-space:pre;overflow-x:auto;line-height:normal;font-family:Menlo,'DejaVu Sans Mono',consolas,'Courier New',monospace\"><span style=\"color: #7fbfbf; text-decoration-color: #7fbfbf\">[06/22/24 12:30:25] </span><span style=\"color: #000080; text-decoration-color: #000080\">INFO    </span> Kedro project textClustering                                           <a href=\"file://c:\\Users\\sebit\\.conda\\envs\\kedro\\Lib\\site-packages\\kedro\\ipython\\__init__.py\" target=\"_blank\"><span style=\"color: #7f7f7f; text-decoration-color: #7f7f7f\">__init__.py</span></a><span style=\"color: #7f7f7f; text-decoration-color: #7f7f7f\">:</span><a href=\"file://c:\\Users\\sebit\\.conda\\envs\\kedro\\Lib\\site-packages\\kedro\\ipython\\__init__.py#134\" target=\"_blank\"><span style=\"color: #7f7f7f; text-decoration-color: #7f7f7f\">134</span></a>\n",
       "</pre>\n"
      ],
      "text/plain": [
       "\u001b[2;36m[06/22/24 12:30:25]\u001b[0m\u001b[2;36m \u001b[0m\u001b[34mINFO    \u001b[0m Kedro project textClustering                                           \u001b]8;id=461134;file://c:\\Users\\sebit\\.conda\\envs\\kedro\\Lib\\site-packages\\kedro\\ipython\\__init__.py\u001b\\\u001b[2m__init__.py\u001b[0m\u001b]8;;\u001b\\\u001b[2m:\u001b[0m\u001b]8;id=589755;file://c:\\Users\\sebit\\.conda\\envs\\kedro\\Lib\\site-packages\\kedro\\ipython\\__init__.py#134\u001b\\\u001b[2m134\u001b[0m\u001b]8;;\u001b\\\n"
      ]
     },
     "metadata": {},
     "output_type": "display_data"
    },
    {
     "data": {
      "text/html": [
       "<pre style=\"white-space:pre;overflow-x:auto;line-height:normal;font-family:Menlo,'DejaVu Sans Mono',consolas,'Courier New',monospace\"><span style=\"color: #7fbfbf; text-decoration-color: #7fbfbf\">                    </span><span style=\"color: #000080; text-decoration-color: #000080\">INFO    </span> Defined global variable <span style=\"color: #008000; text-decoration-color: #008000\">'context'</span>, <span style=\"color: #008000; text-decoration-color: #008000\">'session'</span>, <span style=\"color: #008000; text-decoration-color: #008000\">'catalog'</span> and            <a href=\"file://c:\\Users\\sebit\\.conda\\envs\\kedro\\Lib\\site-packages\\kedro\\ipython\\__init__.py\" target=\"_blank\"><span style=\"color: #7f7f7f; text-decoration-color: #7f7f7f\">__init__.py</span></a><span style=\"color: #7f7f7f; text-decoration-color: #7f7f7f\">:</span><a href=\"file://c:\\Users\\sebit\\.conda\\envs\\kedro\\Lib\\site-packages\\kedro\\ipython\\__init__.py#135\" target=\"_blank\"><span style=\"color: #7f7f7f; text-decoration-color: #7f7f7f\">135</span></a>\n",
       "<span style=\"color: #7fbfbf; text-decoration-color: #7fbfbf\">                    </span>         <span style=\"color: #008000; text-decoration-color: #008000\">'pipelines'</span>                                                            <span style=\"color: #7f7f7f; text-decoration-color: #7f7f7f\">               </span>\n",
       "</pre>\n"
      ],
      "text/plain": [
       "\u001b[2;36m                   \u001b[0m\u001b[2;36m \u001b[0m\u001b[34mINFO    \u001b[0m Defined global variable \u001b[32m'context'\u001b[0m, \u001b[32m'session'\u001b[0m, \u001b[32m'catalog'\u001b[0m and            \u001b]8;id=615406;file://c:\\Users\\sebit\\.conda\\envs\\kedro\\Lib\\site-packages\\kedro\\ipython\\__init__.py\u001b\\\u001b[2m__init__.py\u001b[0m\u001b]8;;\u001b\\\u001b[2m:\u001b[0m\u001b]8;id=450347;file://c:\\Users\\sebit\\.conda\\envs\\kedro\\Lib\\site-packages\\kedro\\ipython\\__init__.py#135\u001b\\\u001b[2m135\u001b[0m\u001b]8;;\u001b\\\n",
       "\u001b[2;36m                    \u001b[0m         \u001b[32m'pipelines'\u001b[0m                                                            \u001b[2m               \u001b[0m\n"
      ]
     },
     "metadata": {},
     "output_type": "display_data"
    },
    {
     "data": {
      "text/html": [
       "<pre style=\"white-space:pre;overflow-x:auto;line-height:normal;font-family:Menlo,'DejaVu Sans Mono',consolas,'Courier New',monospace\"><span style=\"color: #7fbfbf; text-decoration-color: #7fbfbf\">[06/22/24 12:30:27] </span><span style=\"color: #000080; text-decoration-color: #000080\">INFO    </span> Registered line magic <span style=\"color: #008000; text-decoration-color: #008000\">'run_viz'</span>                                        <a href=\"file://c:\\Users\\sebit\\.conda\\envs\\kedro\\Lib\\site-packages\\kedro\\ipython\\__init__.py\" target=\"_blank\"><span style=\"color: #7f7f7f; text-decoration-color: #7f7f7f\">__init__.py</span></a><span style=\"color: #7f7f7f; text-decoration-color: #7f7f7f\">:</span><a href=\"file://c:\\Users\\sebit\\.conda\\envs\\kedro\\Lib\\site-packages\\kedro\\ipython\\__init__.py#141\" target=\"_blank\"><span style=\"color: #7f7f7f; text-decoration-color: #7f7f7f\">141</span></a>\n",
       "</pre>\n"
      ],
      "text/plain": [
       "\u001b[2;36m[06/22/24 12:30:27]\u001b[0m\u001b[2;36m \u001b[0m\u001b[34mINFO    \u001b[0m Registered line magic \u001b[32m'run_viz'\u001b[0m                                        \u001b]8;id=755085;file://c:\\Users\\sebit\\.conda\\envs\\kedro\\Lib\\site-packages\\kedro\\ipython\\__init__.py\u001b\\\u001b[2m__init__.py\u001b[0m\u001b]8;;\u001b\\\u001b[2m:\u001b[0m\u001b]8;id=357564;file://c:\\Users\\sebit\\.conda\\envs\\kedro\\Lib\\site-packages\\kedro\\ipython\\__init__.py#141\u001b\\\u001b[2m141\u001b[0m\u001b]8;;\u001b\\\n"
      ]
     },
     "metadata": {},
     "output_type": "display_data"
    }
   ],
   "source": [
    "%load_ext kedro.ipython"
   ]
  },
  {
   "cell_type": "markdown",
   "metadata": {},
   "source": [
    "Load data"
   ]
  },
  {
   "cell_type": "code",
   "execution_count": 4,
   "metadata": {},
   "outputs": [
    {
     "data": {
      "text/html": [
       "<pre style=\"white-space:pre;overflow-x:auto;line-height:normal;font-family:Menlo,'DejaVu Sans Mono',consolas,'Courier New',monospace\"><span style=\"color: #7fbfbf; text-decoration-color: #7fbfbf\">[06/22/24 12:30:39] </span><span style=\"color: #000080; text-decoration-color: #000080\">INFO    </span> Loading data from <span style=\"color: #ff8700; text-decoration-color: #ff8700\">train</span> <span style=\"font-weight: bold\">(</span>CSVDataset<span style=\"font-weight: bold\">)</span><span style=\"color: #808000; text-decoration-color: #808000\">...</span>                            <a href=\"file://c:\\Users\\sebit\\.conda\\envs\\kedro\\Lib\\site-packages\\kedro\\io\\data_catalog.py\" target=\"_blank\"><span style=\"color: #7f7f7f; text-decoration-color: #7f7f7f\">data_catalog.py</span></a><span style=\"color: #7f7f7f; text-decoration-color: #7f7f7f\">:</span><a href=\"file://c:\\Users\\sebit\\.conda\\envs\\kedro\\Lib\\site-packages\\kedro\\io\\data_catalog.py#483\" target=\"_blank\"><span style=\"color: #7f7f7f; text-decoration-color: #7f7f7f\">483</span></a>\n",
       "</pre>\n"
      ],
      "text/plain": [
       "\u001b[2;36m[06/22/24 12:30:39]\u001b[0m\u001b[2;36m \u001b[0m\u001b[34mINFO    \u001b[0m Loading data from \u001b[38;5;208mtrain\u001b[0m \u001b[1m(\u001b[0mCSVDataset\u001b[1m)\u001b[0m\u001b[33m...\u001b[0m                            \u001b]8;id=607393;file://c:\\Users\\sebit\\.conda\\envs\\kedro\\Lib\\site-packages\\kedro\\io\\data_catalog.py\u001b\\\u001b[2mdata_catalog.py\u001b[0m\u001b]8;;\u001b\\\u001b[2m:\u001b[0m\u001b]8;id=34056;file://c:\\Users\\sebit\\.conda\\envs\\kedro\\Lib\\site-packages\\kedro\\io\\data_catalog.py#483\u001b\\\u001b[2m483\u001b[0m\u001b]8;;\u001b\\\n"
      ]
     },
     "metadata": {},
     "output_type": "display_data"
    }
   ],
   "source": [
    "train = catalog.load('train')"
   ]
  },
  {
   "cell_type": "markdown",
   "metadata": {},
   "source": [
    "# Exploratory Data Analysis (EDA)"
   ]
  },
  {
   "cell_type": "markdown",
   "metadata": {},
   "source": [
    "1. See the type of data"
   ]
  },
  {
   "cell_type": "code",
   "execution_count": 6,
   "metadata": {},
   "outputs": [
    {
     "data": {
      "text/html": [
       "<pre style=\"white-space:pre;overflow-x:auto;line-height:normal;font-family:Menlo,'DejaVu Sans Mono',consolas,'Courier New',monospace\"></pre>\n"
      ],
      "text/plain": []
     },
     "metadata": {},
     "output_type": "display_data"
    },
    {
     "data": {
      "text/plain": [
       "\n",
       "ID                       int64\n",
       "TITLE                   object\n",
       "ABSTRACT                object\n",
       "Computer Science         int64\n",
       "Physics                  int64\n",
       "Mathematics              int64\n",
       "Statistics               int64\n",
       "Quantitative Biology     int64\n",
       "Quantitative Finance     int64\n",
       "dtype: object"
      ]
     },
     "execution_count": 6,
     "metadata": {},
     "output_type": "execute_result"
    }
   ],
   "source": [
    "train.dtypes"
   ]
  },
  {
   "cell_type": "markdown",
   "metadata": {},
   "source": [
    "2. See if there are null values"
   ]
  },
  {
   "cell_type": "code",
   "execution_count": 7,
   "metadata": {},
   "outputs": [
    {
     "data": {
      "text/html": [
       "<pre style=\"white-space:pre;overflow-x:auto;line-height:normal;font-family:Menlo,'DejaVu Sans Mono',consolas,'Courier New',monospace\"></pre>\n"
      ],
      "text/plain": []
     },
     "metadata": {},
     "output_type": "display_data"
    },
    {
     "data": {
      "text/plain": [
       "\n",
       "ID                      \u001b[1;36m0\u001b[0m\n",
       "TITLE                   \u001b[1;36m0\u001b[0m\n",
       "ABSTRACT                \u001b[1;36m0\u001b[0m\n",
       "Computer Science        \u001b[1;36m0\u001b[0m\n",
       "Physics                 \u001b[1;36m0\u001b[0m\n",
       "Mathematics             \u001b[1;36m0\u001b[0m\n",
       "Statistics              \u001b[1;36m0\u001b[0m\n",
       "Quantitative Biology    \u001b[1;36m0\u001b[0m\n",
       "Quantitative Finance    \u001b[1;36m0\u001b[0m\n",
       "dtype: int64"
      ]
     },
     "execution_count": 7,
     "metadata": {},
     "output_type": "execute_result"
    }
   ],
   "source": [
    "train.isnull().sum()"
   ]
  },
  {
   "cell_type": "markdown",
   "metadata": {},
   "source": [
    "3. Clean text. \n",
    "\n",
    "In order to avoid redudant words, it is going to create a function to clean the text. \n",
    "- It is going to be lowercased the text.\n",
    "- It is going to be removed any number from the text.\n",
    "- It is going to be removed the stopwords.\n",
    "- It is going to be removed words lower than 3 characters.\n",
    "- It is going to be normalized the text."
   ]
  },
  {
   "cell_type": "code",
   "execution_count": 15,
   "metadata": {},
   "outputs": [],
   "source": [
    "import re\n",
    "import nltk\n",
    "from nltk.corpus import stopwords\n",
    "from nltk.tokenize import word_tokenize\n",
    "from nltk.stem import WordNetLemmatizer\n"
   ]
  },
  {
   "cell_type": "markdown",
   "metadata": {},
   "source": [
    "Get the stop words in an object"
   ]
  },
  {
   "cell_type": "code",
   "execution_count": 14,
   "metadata": {},
   "outputs": [],
   "source": [
    "stop_words = stopwords.words('english')"
   ]
  },
  {
   "cell_type": "markdown",
   "metadata": {},
   "source": [
    "Define an object for the lematizer"
   ]
  },
  {
   "cell_type": "code",
   "execution_count": 17,
   "metadata": {},
   "outputs": [],
   "source": [
    "lematizer = WordNetLemmatizer()"
   ]
  },
  {
   "cell_type": "code",
   "execution_count": 21,
   "metadata": {},
   "outputs": [],
   "source": [
    "import re\n",
    "import nltk\n",
    "from nltk.corpus import stopwords\n",
    "\n",
    "def clean_text(text):\n",
    "    \"\"\"\"\n",
    "    This function receives a text and returns it cleaned.\n",
    "\n",
    "    Args:\n",
    "        text (str): a text to be cleaned\n",
    "    \n",
    "    Returns:\n",
    "        str: the cleaned text\n",
    "    \"\"\"\n",
    "    # remove special characters and digits\n",
    "    text = text.lower()\n",
    "    # remove numbers\n",
    "    text = re.sub(r'\\d+', '', text)\n",
    "    # get the tokens \n",
    "    tokens = word_tokenize(text)\n",
    "    # remove stop words\n",
    "    tokens = [word for word in tokens if word not in stop_words]\n",
    "    # remove words with less than 3 characters\n",
    "    tokens = [word for word in tokens if len(word) > 3]\n",
    "    # lemmatize\n",
    "    tokens = [lematizer.lemmatize(word) for word in tokens]\n",
    "    # join all\n",
    "    text = ' '.join(tokens)\n",
    "    # remove blank space\n",
    "    text = text.strip()\n",
    "    return text"
   ]
  },
  {
   "cell_type": "markdown",
   "metadata": {},
   "source": [
    "Apply the cleaning for the title and abstract columns"
   ]
  },
  {
   "cell_type": "code",
   "execution_count": 22,
   "metadata": {},
   "outputs": [],
   "source": [
    "train[\"TITLE\"] = train[\"TITLE\"].apply(clean_text)\n",
    "train[\"ABSTRACT\"] = train[\"ABSTRACT\"].apply(clean_text)"
   ]
  },
  {
   "cell_type": "markdown",
   "metadata": {},
   "source": [
    "# Modeling\n",
    "\n",
    "In the dataset, we have the target values. However, in this application we want simulate scenarios where are not labeled data.\n",
    "\n",
    "It is going to be discovered possible labels based just on the words for the abstracts and titles with clustering modeling."
   ]
  },
  {
   "cell_type": "markdown",
   "metadata": {},
   "source": [
    "1. We need to create a matrix NxM, where N is the samples as rows and M is the features as columns. To do this task, we can do this with TF-IDF."
   ]
  },
  {
   "cell_type": "code",
   "execution_count": 24,
   "metadata": {},
   "outputs": [],
   "source": [
    "from sklearn.feature_extraction.text import TfidfVectorizer"
   ]
  },
  {
   "cell_type": "code",
   "execution_count": 52,
   "metadata": {},
   "outputs": [],
   "source": [
    "# vectorizer for the titles\n",
    "vectorizer1 = TfidfVectorizer(max_df=0.99, min_df=0.005)\n",
    "# vectorizer for the abstracts\n",
    "vectorizer2 = TfidfVectorizer(max_df=0.99, min_df=0.005)"
   ]
  },
  {
   "cell_type": "code",
   "execution_count": 53,
   "metadata": {},
   "outputs": [],
   "source": [
    "X_titles = vectorizer1.fit_transform(train[\"TITLE\"])\n",
    "X_abstracts = vectorizer2.fit_transform(train[\"ABSTRACT\"])"
   ]
  },
  {
   "cell_type": "markdown",
   "metadata": {},
   "source": [
    "2. Load the NMF model, this will help to transform the NxM matrix into a multiplication of NxK (1st) * KxM (2nd). \n",
    "\n",
    "The first matrix NxK contains K features for each title.\n",
    " \n",
    "Meanwhile, the second matrix KxM contains the information about which words appears more often for the K feature."
   ]
  },
  {
   "cell_type": "code",
   "execution_count": 54,
   "metadata": {},
   "outputs": [],
   "source": [
    "from sklearn.decomposition import NMF"
   ]
  },
  {
   "cell_type": "code",
   "execution_count": 55,
   "metadata": {},
   "outputs": [],
   "source": [
    "# model for the titles\n",
    "nmf1 = NMF(n_components=10, random_state=42)\n",
    "# model for the abstracts\n",
    "nmf2 = NMF(n_components=10, random_state=42)"
   ]
  },
  {
   "cell_type": "markdown",
   "metadata": {},
   "source": [
    "Calculate the matrices"
   ]
  },
  {
   "cell_type": "code",
   "execution_count": 56,
   "metadata": {},
   "outputs": [],
   "source": [
    "mtitles = nmf1.fit_transform(X_titles)\n",
    "mabstracts = nmf2.fit_transform(X_abstracts)"
   ]
  },
  {
   "cell_type": "markdown",
   "metadata": {},
   "source": [
    "Create two DF to save the results from th NFM models"
   ]
  },
  {
   "cell_type": "code",
   "execution_count": 57,
   "metadata": {},
   "outputs": [],
   "source": [
    "df_titles = pd.DataFrame(nmf1.components_, columns=vectorizer1.get_feature_names_out())\n",
    "df_abstracts = pd.DataFrame(nmf2.components_, columns=vectorizer2.get_feature_names_out())"
   ]
  },
  {
   "cell_type": "markdown",
   "metadata": {},
   "source": [
    "Define a function to get the top 10 most repeated words for each topic (K), created."
   ]
  },
  {
   "cell_type": "code",
   "execution_count": 61,
   "metadata": {},
   "outputs": [],
   "source": [
    "def display_topics(components_df, no_top_words):\n",
    "    for topic in range(components_df.shape[0]):\n",
    "        tmp = components_df.iloc[topic]\n",
    "        print(f'For topic {topic+1} the words with the highest value are:')\n",
    "        print(tmp.nlargest(no_top_words))\n",
    "        print('\\n')"
   ]
  },
  {
   "cell_type": "markdown",
   "metadata": {},
   "source": [
    "Because this is an iterative process, we are going to define a function to find the optimal number of clusters.\n",
    "\n",
    "To define the most optimal, we have to read the words."
   ]
  },
  {
   "cell_type": "code",
   "execution_count": 64,
   "metadata": {},
   "outputs": [],
   "source": [
    "def evaluate_clustering(matrix_tf, n_clusters, vectorizer):\n",
    "    model = NMF(n_components=n_clusters, random_state=42)\n",
    "    W = model.fit_transform(matrix_tf)\n",
    "    df = pd.DataFrame(model.components_, columns=vectorizer.get_feature_names_out())\n",
    "    display_topics(df, 10)"
   ]
  },
  {
   "cell_type": "markdown",
   "metadata": {},
   "source": [
    "For the titles"
   ]
  },
  {
   "cell_type": "code",
   "execution_count": 66,
   "metadata": {},
   "outputs": [
    {
     "name": "stdout",
     "output_type": "stream",
     "text": [
      "Number of clusters selected was 3:\n",
      "For topic 1 the words with the highest value are:\n",
      "network          5.022102\n",
      "neural           2.204723\n",
      "deep             0.732297\n",
      "convolutional    0.624584\n",
      "using            0.608490\n",
      "recurrent        0.359711\n",
      "adversarial      0.315284\n",
      "based            0.278882\n",
      "dynamic          0.266942\n",
      "analysis         0.264291\n",
      "Name: 0, dtype: float64\n",
      "\n",
      "\n",
      "For topic 2 the words with the highest value are:\n",
      "model       3.317209\n",
      "system      0.661979\n",
      "based       0.630218\n",
      "data        0.519725\n",
      "using       0.478260\n",
      "analysis    0.446079\n",
      "dynamic     0.309342\n",
      "time        0.270941\n",
      "linear      0.265327\n",
      "approach    0.254595\n",
      "Name: 1, dtype: float64\n",
      "\n",
      "\n",
      "For topic 3 the words with the highest value are:\n",
      "learning          3.303337\n",
      "deep              1.359428\n",
      "machine           0.635892\n",
      "reinforcement     0.431207\n",
      "data              0.359883\n",
      "based             0.335335\n",
      "using             0.289307\n",
      "representation    0.274779\n",
      "multi             0.233294\n",
      "approach          0.199918\n",
      "Name: 2, dtype: float64\n",
      "\n",
      "\n",
      "\n",
      "\n",
      "Number of clusters selected was 4:\n",
      "For topic 1 the words with the highest value are:\n",
      "network          5.419905\n",
      "neural           2.379885\n",
      "deep             0.829428\n",
      "convolutional    0.668714\n",
      "using            0.390428\n",
      "recurrent        0.384349\n",
      "adversarial      0.340662\n",
      "social           0.259889\n",
      "generative       0.251053\n",
      "training         0.228598\n",
      "Name: 0, dtype: float64\n",
      "\n",
      "\n",
      "For topic 2 the words with the highest value are:\n",
      "model         3.765381\n",
      "linear        0.155159\n",
      "stochastic    0.143193\n",
      "generative    0.124352\n",
      "dynamic       0.111146\n",
      "bayesian      0.104458\n",
      "gaussian      0.099862\n",
      "inference     0.098289\n",
      "estimation    0.097050\n",
      "selection     0.095953\n",
      "Name: 1, dtype: float64\n",
      "\n",
      "\n",
      "For topic 3 the words with the highest value are:\n",
      "learning          3.322623\n",
      "deep              1.378419\n",
      "machine           0.618580\n",
      "reinforcement     0.434288\n",
      "representation    0.259570\n",
      "multi             0.171023\n",
      "classification    0.152759\n",
      "supervised        0.137901\n",
      "task              0.118550\n",
      "transfer          0.114581\n",
      "Name: 2, dtype: float64\n",
      "\n",
      "\n",
      "For topic 4 the words with the highest value are:\n",
      "system         1.915141\n",
      "data           1.373940\n",
      "based          1.326241\n",
      "using          1.114875\n",
      "analysis       1.053034\n",
      "approach       0.501391\n",
      "time           0.494924\n",
      "application    0.461689\n",
      "method         0.451438\n",
      "dynamic        0.417918\n",
      "Name: 3, dtype: float64\n",
      "\n",
      "\n",
      "\n",
      "\n",
      "Number of clusters selected was 5:\n",
      "For topic 1 the words with the highest value are:\n",
      "network          5.666467\n",
      "neural           2.482164\n",
      "deep             0.865580\n",
      "convolutional    0.691372\n",
      "recurrent        0.397145\n",
      "adversarial      0.354973\n",
      "social           0.265898\n",
      "generative       0.261825\n",
      "training         0.235891\n",
      "dynamic          0.227029\n",
      "Name: 0, dtype: float64\n",
      "\n",
      "\n",
      "For topic 2 the words with the highest value are:\n",
      "model          3.802985\n",
      "linear         0.164563\n",
      "stochastic     0.148981\n",
      "dynamic        0.131212\n",
      "generative     0.125275\n",
      "dimensional    0.101445\n",
      "gaussian       0.097997\n",
      "bayesian       0.096568\n",
      "inference      0.094228\n",
      "selection      0.093037\n",
      "Name: 1, dtype: float64\n",
      "\n",
      "\n",
      "For topic 3 the words with the highest value are:\n",
      "learning          3.308039\n",
      "deep              1.371771\n",
      "machine           0.612584\n",
      "reinforcement     0.432706\n",
      "representation    0.258075\n",
      "multi             0.181628\n",
      "classification    0.140726\n",
      "supervised        0.134195\n",
      "task              0.118558\n",
      "transfer          0.114104\n",
      "Name: 2, dtype: float64\n",
      "\n",
      "\n",
      "For topic 4 the words with the highest value are:\n",
      "system       3.767091\n",
      "quantum      0.439713\n",
      "control      0.256216\n",
      "multi        0.240322\n",
      "dynamical    0.194959\n",
      "state        0.169817\n",
      "spin         0.162469\n",
      "theory       0.159728\n",
      "power        0.157367\n",
      "dynamic      0.141374\n",
      "Name: 3, dtype: float64\n",
      "\n",
      "\n",
      "For topic 5 the words with the highest value are:\n",
      "data           1.759340\n",
      "using          1.442529\n",
      "based          1.403335\n",
      "analysis       1.205094\n",
      "method         0.480719\n",
      "graph          0.433204\n",
      "application    0.431939\n",
      "approach       0.430653\n",
      "time           0.420828\n",
      "algorithm      0.419648\n",
      "Name: 4, dtype: float64\n",
      "\n",
      "\n",
      "\n",
      "\n"
     ]
    }
   ],
   "source": [
    "topics = [3, 4, 5]\n",
    "for topic in topics:\n",
    "    print(f'Number of clusters selected was {topic}:')\n",
    "    evaluate_clustering(X_titles, topic, vectorizer1)\n",
    "    print('\\n')"
   ]
  },
  {
   "cell_type": "markdown",
   "metadata": {},
   "source": [
    "For the abstracts"
   ]
  },
  {
   "cell_type": "code",
   "execution_count": 68,
   "metadata": {},
   "outputs": [
    {
     "name": "stdout",
     "output_type": "stream",
     "text": [
      "Number of clusters selected was 3:\n",
      "For topic 1 the words with the highest value are:\n",
      "network      1.416461\n",
      "model        1.280233\n",
      "data         1.197793\n",
      "learning     1.045764\n",
      "method       0.966062\n",
      "algorithm    0.697156\n",
      "approach     0.677682\n",
      "neural       0.655782\n",
      "based        0.652174\n",
      "deep         0.584422\n",
      "Name: 0, dtype: float64\n",
      "\n",
      "\n",
      "For topic 2 the words with the highest value are:\n",
      "field          0.623013\n",
      "spin           0.615562\n",
      "system         0.610686\n",
      "phase          0.598236\n",
      "magnetic       0.576949\n",
      "energy         0.561037\n",
      "temperature    0.515173\n",
      "state          0.512965\n",
      "quantum        0.454962\n",
      "effect         0.407985\n",
      "Name: 1, dtype: float64\n",
      "\n",
      "\n",
      "For topic 3 the words with the highest value are:\n",
      "problem      0.700083\n",
      "function     0.667108\n",
      "group        0.607623\n",
      "mathbb       0.579362\n",
      "graph        0.577283\n",
      "space        0.558827\n",
      "equation     0.539288\n",
      "solution     0.518846\n",
      "prove        0.467742\n",
      "algorithm    0.466846\n",
      "Name: 2, dtype: float64\n",
      "\n",
      "\n",
      "\n",
      "\n",
      "Number of clusters selected was 4:\n"
     ]
    },
    {
     "data": {
      "text/html": [
       "<pre style=\"white-space:pre;overflow-x:auto;line-height:normal;font-family:Menlo,'DejaVu Sans Mono',consolas,'Courier New',monospace\"><span style=\"color: #7fbfbf; text-decoration-color: #7fbfbf\">[06/22/24 13:05:35] </span><span style=\"color: #800000; text-decoration-color: #800000\">WARNING </span> c:\\Users\\sebit\\.conda\\envs\\kedro\\Lib\\site-packages\\sklearn\\decompositi <a href=\"file://c:\\Users\\sebit\\.conda\\envs\\kedro\\Lib\\warnings.py\" target=\"_blank\"><span style=\"color: #7f7f7f; text-decoration-color: #7f7f7f\">warnings.py</span></a><span style=\"color: #7f7f7f; text-decoration-color: #7f7f7f\">:</span><a href=\"file://c:\\Users\\sebit\\.conda\\envs\\kedro\\Lib\\warnings.py#110\" target=\"_blank\"><span style=\"color: #7f7f7f; text-decoration-color: #7f7f7f\">110</span></a>\n",
       "<span style=\"color: #7fbfbf; text-decoration-color: #7fbfbf\">                    </span>         on\\_nmf.py:<span style=\"color: #008080; text-decoration-color: #008080; font-weight: bold\">1770</span>: ConvergenceWarning: Maximum number of iterations <span style=\"color: #008080; text-decoration-color: #008080; font-weight: bold\">200</span>  <span style=\"color: #7f7f7f; text-decoration-color: #7f7f7f\">               </span>\n",
       "<span style=\"color: #7fbfbf; text-decoration-color: #7fbfbf\">                    </span>         reached. Increase it to improve convergence.                           <span style=\"color: #7f7f7f; text-decoration-color: #7f7f7f\">               </span>\n",
       "<span style=\"color: #7fbfbf; text-decoration-color: #7fbfbf\">                    </span>           <span style=\"color: #800080; text-decoration-color: #800080; font-weight: bold\">warnings.warn</span><span style=\"font-weight: bold\">(</span>                                                       <span style=\"color: #7f7f7f; text-decoration-color: #7f7f7f\">               </span>\n",
       "<span style=\"color: #7fbfbf; text-decoration-color: #7fbfbf\">                    </span>                                                                                <span style=\"color: #7f7f7f; text-decoration-color: #7f7f7f\">               </span>\n",
       "</pre>\n"
      ],
      "text/plain": [
       "\u001b[2;36m[06/22/24 13:05:35]\u001b[0m\u001b[2;36m \u001b[0m\u001b[31mWARNING \u001b[0m c:\\Users\\sebit\\.conda\\envs\\kedro\\Lib\\site-packages\\sklearn\\decompositi \u001b]8;id=709229;file://c:\\Users\\sebit\\.conda\\envs\\kedro\\Lib\\warnings.py\u001b\\\u001b[2mwarnings.py\u001b[0m\u001b]8;;\u001b\\\u001b[2m:\u001b[0m\u001b]8;id=242618;file://c:\\Users\\sebit\\.conda\\envs\\kedro\\Lib\\warnings.py#110\u001b\\\u001b[2m110\u001b[0m\u001b]8;;\u001b\\\n",
       "\u001b[2;36m                    \u001b[0m         on\\_nmf.py:\u001b[1;36m1770\u001b[0m: ConvergenceWarning: Maximum number of iterations \u001b[1;36m200\u001b[0m  \u001b[2m               \u001b[0m\n",
       "\u001b[2;36m                    \u001b[0m         reached. Increase it to improve convergence.                           \u001b[2m               \u001b[0m\n",
       "\u001b[2;36m                    \u001b[0m           \u001b[1;35mwarnings.warn\u001b[0m\u001b[1m(\u001b[0m                                                       \u001b[2m               \u001b[0m\n",
       "\u001b[2;36m                    \u001b[0m                                                                                \u001b[2m               \u001b[0m\n"
      ]
     },
     "metadata": {},
     "output_type": "display_data"
    },
    {
     "name": "stdout",
     "output_type": "stream",
     "text": [
      "For topic 1 the words with the highest value are:\n",
      "data            1.360011\n",
      "algorithm       1.291993\n",
      "method          1.216066\n",
      "model           1.206187\n",
      "problem         0.950513\n",
      "approach        0.721961\n",
      "based           0.679956\n",
      "proposed        0.627078\n",
      "time            0.610926\n",
      "distribution    0.524656\n",
      "Name: 0, dtype: float64\n",
      "\n",
      "\n",
      "For topic 2 the words with the highest value are:\n",
      "spin           0.690264\n",
      "field          0.673796\n",
      "phase          0.656944\n",
      "magnetic       0.643786\n",
      "system         0.624146\n",
      "energy         0.605902\n",
      "temperature    0.567205\n",
      "state          0.565281\n",
      "quantum        0.491960\n",
      "effect         0.428543\n",
      "Name: 1, dtype: float64\n",
      "\n",
      "\n",
      "For topic 3 the words with the highest value are:\n",
      "group       0.815078\n",
      "mathbb      0.772709\n",
      "space       0.639877\n",
      "graph       0.638647\n",
      "function    0.600425\n",
      "equation    0.590457\n",
      "prove       0.547539\n",
      "algebra     0.477220\n",
      "mathcal     0.462917\n",
      "solution    0.450999\n",
      "Name: 2, dtype: float64\n",
      "\n",
      "\n",
      "For topic 4 the words with the highest value are:\n",
      "network         2.340714\n",
      "neural          1.026768\n",
      "learning        0.855508\n",
      "deep            0.821522\n",
      "image           0.609791\n",
      "task            0.597792\n",
      "training        0.570003\n",
      "model           0.513407\n",
      "feature         0.429662\n",
      "architecture    0.390853\n",
      "Name: 3, dtype: float64\n",
      "\n",
      "\n",
      "\n",
      "\n",
      "Number of clusters selected was 5:\n"
     ]
    },
    {
     "data": {
      "text/html": [
       "<pre style=\"white-space:pre;overflow-x:auto;line-height:normal;font-family:Menlo,'DejaVu Sans Mono',consolas,'Courier New',monospace\"><span style=\"color: #7fbfbf; text-decoration-color: #7fbfbf\">[06/22/24 13:05:37] </span><span style=\"color: #800000; text-decoration-color: #800000\">WARNING </span> c:\\Users\\sebit\\.conda\\envs\\kedro\\Lib\\site-packages\\sklearn\\decompositi <a href=\"file://c:\\Users\\sebit\\.conda\\envs\\kedro\\Lib\\warnings.py\" target=\"_blank\"><span style=\"color: #7f7f7f; text-decoration-color: #7f7f7f\">warnings.py</span></a><span style=\"color: #7f7f7f; text-decoration-color: #7f7f7f\">:</span><a href=\"file://c:\\Users\\sebit\\.conda\\envs\\kedro\\Lib\\warnings.py#110\" target=\"_blank\"><span style=\"color: #7f7f7f; text-decoration-color: #7f7f7f\">110</span></a>\n",
       "<span style=\"color: #7fbfbf; text-decoration-color: #7fbfbf\">                    </span>         on\\_nmf.py:<span style=\"color: #008080; text-decoration-color: #008080; font-weight: bold\">1770</span>: ConvergenceWarning: Maximum number of iterations <span style=\"color: #008080; text-decoration-color: #008080; font-weight: bold\">200</span>  <span style=\"color: #7f7f7f; text-decoration-color: #7f7f7f\">               </span>\n",
       "<span style=\"color: #7fbfbf; text-decoration-color: #7fbfbf\">                    </span>         reached. Increase it to improve convergence.                           <span style=\"color: #7f7f7f; text-decoration-color: #7f7f7f\">               </span>\n",
       "<span style=\"color: #7fbfbf; text-decoration-color: #7fbfbf\">                    </span>           <span style=\"color: #800080; text-decoration-color: #800080; font-weight: bold\">warnings.warn</span><span style=\"font-weight: bold\">(</span>                                                       <span style=\"color: #7f7f7f; text-decoration-color: #7f7f7f\">               </span>\n",
       "<span style=\"color: #7fbfbf; text-decoration-color: #7fbfbf\">                    </span>                                                                                <span style=\"color: #7f7f7f; text-decoration-color: #7f7f7f\">               </span>\n",
       "</pre>\n"
      ],
      "text/plain": [
       "\u001b[2;36m[06/22/24 13:05:37]\u001b[0m\u001b[2;36m \u001b[0m\u001b[31mWARNING \u001b[0m c:\\Users\\sebit\\.conda\\envs\\kedro\\Lib\\site-packages\\sklearn\\decompositi \u001b]8;id=455017;file://c:\\Users\\sebit\\.conda\\envs\\kedro\\Lib\\warnings.py\u001b\\\u001b[2mwarnings.py\u001b[0m\u001b]8;;\u001b\\\u001b[2m:\u001b[0m\u001b]8;id=70186;file://c:\\Users\\sebit\\.conda\\envs\\kedro\\Lib\\warnings.py#110\u001b\\\u001b[2m110\u001b[0m\u001b]8;;\u001b\\\n",
       "\u001b[2;36m                    \u001b[0m         on\\_nmf.py:\u001b[1;36m1770\u001b[0m: ConvergenceWarning: Maximum number of iterations \u001b[1;36m200\u001b[0m  \u001b[2m               \u001b[0m\n",
       "\u001b[2;36m                    \u001b[0m         reached. Increase it to improve convergence.                           \u001b[2m               \u001b[0m\n",
       "\u001b[2;36m                    \u001b[0m           \u001b[1;35mwarnings.warn\u001b[0m\u001b[1m(\u001b[0m                                                       \u001b[2m               \u001b[0m\n",
       "\u001b[2;36m                    \u001b[0m                                                                                \u001b[2m               \u001b[0m\n"
      ]
     },
     "metadata": {},
     "output_type": "display_data"
    },
    {
     "name": "stdout",
     "output_type": "stream",
     "text": [
      "For topic 1 the words with the highest value are:\n",
      "data            1.362724\n",
      "algorithm       1.292264\n",
      "method          1.256766\n",
      "model           1.216438\n",
      "problem         1.013568\n",
      "approach        0.718877\n",
      "based           0.679619\n",
      "proposed        0.644394\n",
      "time            0.639217\n",
      "distribution    0.586488\n",
      "Name: 0, dtype: float64\n",
      "\n",
      "\n",
      "For topic 2 the words with the highest value are:\n",
      "spin           0.706848\n",
      "field          0.676740\n",
      "phase          0.668944\n",
      "magnetic       0.659013\n",
      "system         0.619105\n",
      "energy         0.612241\n",
      "temperature    0.579461\n",
      "state          0.572240\n",
      "quantum        0.495844\n",
      "transition     0.434457\n",
      "Name: 1, dtype: float64\n",
      "\n",
      "\n",
      "For topic 3 the words with the highest value are:\n",
      "group       0.968156\n",
      "mathbb      0.921756\n",
      "space       0.757286\n",
      "equation    0.725335\n",
      "function    0.690063\n",
      "prove       0.605369\n",
      "algebra     0.574542\n",
      "solution    0.525274\n",
      "mathcal     0.519195\n",
      "operator    0.480887\n",
      "Name: 2, dtype: float64\n",
      "\n",
      "\n",
      "For topic 4 the words with the highest value are:\n",
      "network         2.268594\n",
      "neural          1.057995\n",
      "learning        1.009827\n",
      "deep            0.872761\n",
      "image           0.715256\n",
      "task            0.688294\n",
      "training        0.643499\n",
      "model           0.618134\n",
      "feature         0.500261\n",
      "architecture    0.417052\n",
      "Name: 3, dtype: float64\n",
      "\n",
      "\n",
      "For topic 5 the words with the highest value are:\n",
      "graph        2.829055\n",
      "vertex       0.551808\n",
      "edge         0.508552\n",
      "algorithm    0.462334\n",
      "node         0.435726\n",
      "problem      0.304890\n",
      "number       0.248721\n",
      "network      0.224971\n",
      "random       0.218937\n",
      "time         0.171416\n",
      "Name: 4, dtype: float64\n",
      "\n",
      "\n",
      "\n",
      "\n"
     ]
    }
   ],
   "source": [
    "topics = [3, 4, 5]\n",
    "for topic in topics:\n",
    "    print(f'Number of clusters selected was {topic}:')\n",
    "    evaluate_clustering(X_abstracts, topic, vectorizer2)\n",
    "    print('\\n')"
   ]
  },
  {
   "cell_type": "markdown",
   "metadata": {},
   "source": [
    "After the carefull consideration, for the titles, we can define 3 clusters, while for the abstracts are 4. \n",
    "\n",
    "The first cluster for the titles is about deep learning, the second about math, and the third about RL.\n",
    "\n",
    "While, for the abstracts, the first cluster is about data, the second about physics, and the third cluster is about math, and the fourth about machine learning."
   ]
  },
  {
   "cell_type": "markdown",
   "metadata": {},
   "source": [
    "# Final Labeling"
   ]
  },
  {
   "cell_type": "markdown",
   "metadata": {},
   "source": [
    "Based on the previous results, the final model for the titles and abstracts are going to be created."
   ]
  },
  {
   "cell_type": "code",
   "execution_count": 69,
   "metadata": {},
   "outputs": [],
   "source": [
    "# model for the titles\n",
    "nmf1 = NMF(n_components=3, random_state=42)\n",
    "# model for the abstracts\n",
    "nmf2 = NMF(n_components=4, random_state=42)"
   ]
  },
  {
   "cell_type": "code",
   "execution_count": 70,
   "metadata": {},
   "outputs": [
    {
     "data": {
      "text/html": [
       "<pre style=\"white-space:pre;overflow-x:auto;line-height:normal;font-family:Menlo,'DejaVu Sans Mono',consolas,'Courier New',monospace\"><span style=\"color: #7fbfbf; text-decoration-color: #7fbfbf\">[06/22/24 14:44:34] </span><span style=\"color: #800000; text-decoration-color: #800000\">WARNING </span> c:\\Users\\sebit\\.conda\\envs\\kedro\\Lib\\site-packages\\sklearn\\decompositi <a href=\"file://c:\\Users\\sebit\\.conda\\envs\\kedro\\Lib\\warnings.py\" target=\"_blank\"><span style=\"color: #7f7f7f; text-decoration-color: #7f7f7f\">warnings.py</span></a><span style=\"color: #7f7f7f; text-decoration-color: #7f7f7f\">:</span><a href=\"file://c:\\Users\\sebit\\.conda\\envs\\kedro\\Lib\\warnings.py#110\" target=\"_blank\"><span style=\"color: #7f7f7f; text-decoration-color: #7f7f7f\">110</span></a>\n",
       "<span style=\"color: #7fbfbf; text-decoration-color: #7fbfbf\">                    </span>         on\\_nmf.py:<span style=\"color: #008080; text-decoration-color: #008080; font-weight: bold\">1770</span>: ConvergenceWarning: Maximum number of iterations <span style=\"color: #008080; text-decoration-color: #008080; font-weight: bold\">200</span>  <span style=\"color: #7f7f7f; text-decoration-color: #7f7f7f\">               </span>\n",
       "<span style=\"color: #7fbfbf; text-decoration-color: #7fbfbf\">                    </span>         reached. Increase it to improve convergence.                           <span style=\"color: #7f7f7f; text-decoration-color: #7f7f7f\">               </span>\n",
       "<span style=\"color: #7fbfbf; text-decoration-color: #7fbfbf\">                    </span>           <span style=\"color: #800080; text-decoration-color: #800080; font-weight: bold\">warnings.warn</span><span style=\"font-weight: bold\">(</span>                                                       <span style=\"color: #7f7f7f; text-decoration-color: #7f7f7f\">               </span>\n",
       "<span style=\"color: #7fbfbf; text-decoration-color: #7fbfbf\">                    </span>                                                                                <span style=\"color: #7f7f7f; text-decoration-color: #7f7f7f\">               </span>\n",
       "</pre>\n"
      ],
      "text/plain": [
       "\u001b[2;36m[06/22/24 14:44:34]\u001b[0m\u001b[2;36m \u001b[0m\u001b[31mWARNING \u001b[0m c:\\Users\\sebit\\.conda\\envs\\kedro\\Lib\\site-packages\\sklearn\\decompositi \u001b]8;id=373570;file://c:\\Users\\sebit\\.conda\\envs\\kedro\\Lib\\warnings.py\u001b\\\u001b[2mwarnings.py\u001b[0m\u001b]8;;\u001b\\\u001b[2m:\u001b[0m\u001b]8;id=39868;file://c:\\Users\\sebit\\.conda\\envs\\kedro\\Lib\\warnings.py#110\u001b\\\u001b[2m110\u001b[0m\u001b]8;;\u001b\\\n",
       "\u001b[2;36m                    \u001b[0m         on\\_nmf.py:\u001b[1;36m1770\u001b[0m: ConvergenceWarning: Maximum number of iterations \u001b[1;36m200\u001b[0m  \u001b[2m               \u001b[0m\n",
       "\u001b[2;36m                    \u001b[0m         reached. Increase it to improve convergence.                           \u001b[2m               \u001b[0m\n",
       "\u001b[2;36m                    \u001b[0m           \u001b[1;35mwarnings.warn\u001b[0m\u001b[1m(\u001b[0m                                                       \u001b[2m               \u001b[0m\n",
       "\u001b[2;36m                    \u001b[0m                                                                                \u001b[2m               \u001b[0m\n"
      ]
     },
     "metadata": {},
     "output_type": "display_data"
    }
   ],
   "source": [
    "mtitles = nmf1.fit_transform(X_titles)\n",
    "mabstracts = nmf2.fit_transform(X_abstracts)"
   ]
  },
  {
   "cell_type": "code",
   "execution_count": 80,
   "metadata": {},
   "outputs": [
    {
     "data": {
      "text/html": [
       "<pre style=\"white-space:pre;overflow-x:auto;line-height:normal;font-family:Menlo,'DejaVu Sans Mono',consolas,'Courier New',monospace\"></pre>\n"
      ],
      "text/plain": []
     },
     "metadata": {},
     "output_type": "display_data"
    },
    {
     "data": {
      "text/plain": [
       "\n",
       "\u001b[1;35marray\u001b[0m\u001b[1m(\u001b[0m\u001b[1m[\u001b[0m\u001b[1m[\u001b[0m\u001b[1;36m0.00136383\u001b[0m, \u001b[1;36m0.0106293\u001b[0m , \u001b[1;36m0\u001b[0m.        \u001b[1m]\u001b[0m,\n",
       "       \u001b[1m[\u001b[0m\u001b[1;36m0.14922867\u001b[0m, \u001b[1;36m0\u001b[0m.        , \u001b[1;36m0\u001b[0m.        \u001b[1m]\u001b[0m,\n",
       "       \u001b[1m[\u001b[0m\u001b[1;36m0.00123705\u001b[0m, \u001b[1;36m0.00689299\u001b[0m, \u001b[1;36m0.00511899\u001b[0m\u001b[1m]\u001b[0m,\n",
       "       \u001b[33m...\u001b[0m,\n",
       "       \u001b[1m[\u001b[0m\u001b[1;36m0.00111711\u001b[0m, \u001b[1;36m0.00701716\u001b[0m, \u001b[1;36m0.00247215\u001b[0m\u001b[1m]\u001b[0m,\n",
       "       \u001b[1m[\u001b[0m\u001b[1;36m0.0016631\u001b[0m , \u001b[1;36m0.00933373\u001b[0m, \u001b[1;36m0.00429966\u001b[0m\u001b[1m]\u001b[0m,\n",
       "       \u001b[1m[\u001b[0m\u001b[1;36m0.00098933\u001b[0m, \u001b[1;36m0.01071782\u001b[0m, \u001b[1;36m0.00215841\u001b[0m\u001b[1m]\u001b[0m\u001b[1m]\u001b[0m\u001b[1m)\u001b[0m"
      ]
     },
     "execution_count": 80,
     "metadata": {},
     "output_type": "execute_result"
    }
   ],
   "source": [
    "mtitles"
   ]
  },
  {
   "cell_type": "code",
   "execution_count": 88,
   "metadata": {},
   "outputs": [],
   "source": [
    "df_titles = pd.DataFrame(mtitles, columns=[\"deep learning\", \"math\", \"reinforcement learning\"])\n",
    "df_abstracts = pd.DataFrame(mabstracts, columns=[\"data\", \"physics\", \"math\", \"machine learning\"])"
   ]
  },
  {
   "cell_type": "markdown",
   "metadata": {},
   "source": [
    "Once we have the optimal number of features of the NxK matrix, we have to select the label with the highest probability.\n",
    "\n",
    "This will be done with a function."
   ]
  },
  {
   "cell_type": "code",
   "execution_count": 89,
   "metadata": {},
   "outputs": [],
   "source": [
    "def get_label(row):\n",
    "    return row.idxmax()"
   ]
  },
  {
   "cell_type": "code",
   "execution_count": 90,
   "metadata": {},
   "outputs": [],
   "source": [
    "df_titles[\"class\"] = df_titles.apply(get_label, axis=1)\n",
    "df_abstracts[\"class\"] = df_abstracts.apply(get_label, axis=1)"
   ]
  },
  {
   "cell_type": "code",
   "execution_count": 85,
   "metadata": {},
   "outputs": [
    {
     "data": {
      "text/html": [
       "<pre style=\"white-space:pre;overflow-x:auto;line-height:normal;font-family:Menlo,'DejaVu Sans Mono',consolas,'Courier New',monospace\"></pre>\n"
      ],
      "text/plain": []
     },
     "metadata": {},
     "output_type": "display_data"
    },
    {
     "data": {
      "text/html": [
       "<div>\n",
       "<style scoped>\n",
       "    .dataframe tbody tr th:only-of-type {\n",
       "        vertical-align: middle;\n",
       "    }\n",
       "\n",
       "    .dataframe tbody tr th {\n",
       "        vertical-align: top;\n",
       "    }\n",
       "\n",
       "    .dataframe thead th {\n",
       "        text-align: right;\n",
       "    }\n",
       "</style>\n",
       "<table border=\"1\" class=\"dataframe\">\n",
       "  <thead>\n",
       "    <tr style=\"text-align: right;\">\n",
       "      <th></th>\n",
       "      <th>deep learning</th>\n",
       "      <th>math</th>\n",
       "      <th>reinforcement learning</th>\n",
       "      <th>class</th>\n",
       "    </tr>\n",
       "  </thead>\n",
       "  <tbody>\n",
       "    <tr>\n",
       "      <th>0</th>\n",
       "      <td>0.001364</td>\n",
       "      <td>0.010629</td>\n",
       "      <td>0.000000</td>\n",
       "      <td>math</td>\n",
       "    </tr>\n",
       "    <tr>\n",
       "      <th>1</th>\n",
       "      <td>0.149229</td>\n",
       "      <td>0.000000</td>\n",
       "      <td>0.000000</td>\n",
       "      <td>deep learning</td>\n",
       "    </tr>\n",
       "    <tr>\n",
       "      <th>2</th>\n",
       "      <td>0.001237</td>\n",
       "      <td>0.006893</td>\n",
       "      <td>0.005119</td>\n",
       "      <td>math</td>\n",
       "    </tr>\n",
       "    <tr>\n",
       "      <th>3</th>\n",
       "      <td>0.000037</td>\n",
       "      <td>0.033415</td>\n",
       "      <td>0.000000</td>\n",
       "      <td>math</td>\n",
       "    </tr>\n",
       "    <tr>\n",
       "      <th>4</th>\n",
       "      <td>0.002097</td>\n",
       "      <td>0.017937</td>\n",
       "      <td>0.012046</td>\n",
       "      <td>math</td>\n",
       "    </tr>\n",
       "    <tr>\n",
       "      <th>...</th>\n",
       "      <td>...</td>\n",
       "      <td>...</td>\n",
       "      <td>...</td>\n",
       "      <td>...</td>\n",
       "    </tr>\n",
       "    <tr>\n",
       "      <th>20967</th>\n",
       "      <td>0.000000</td>\n",
       "      <td>0.000000</td>\n",
       "      <td>0.169086</td>\n",
       "      <td>reinforcement learning</td>\n",
       "    </tr>\n",
       "    <tr>\n",
       "      <th>20968</th>\n",
       "      <td>0.000000</td>\n",
       "      <td>0.000000</td>\n",
       "      <td>0.000000</td>\n",
       "      <td>deep learning</td>\n",
       "    </tr>\n",
       "    <tr>\n",
       "      <th>20969</th>\n",
       "      <td>0.001117</td>\n",
       "      <td>0.007017</td>\n",
       "      <td>0.002472</td>\n",
       "      <td>math</td>\n",
       "    </tr>\n",
       "    <tr>\n",
       "      <th>20970</th>\n",
       "      <td>0.001663</td>\n",
       "      <td>0.009334</td>\n",
       "      <td>0.004300</td>\n",
       "      <td>math</td>\n",
       "    </tr>\n",
       "    <tr>\n",
       "      <th>20971</th>\n",
       "      <td>0.000989</td>\n",
       "      <td>0.010718</td>\n",
       "      <td>0.002158</td>\n",
       "      <td>math</td>\n",
       "    </tr>\n",
       "  </tbody>\n",
       "</table>\n",
       "<p>20972 rows × 4 columns</p>\n",
       "</div>"
      ],
      "text/plain": [
       "\n",
       "       deep learning      math  reinforcement learning                   class\n",
       "\u001b[1;36m0\u001b[0m           \u001b[1;36m0.001364\u001b[0m  \u001b[1;36m0.010629\u001b[0m                \u001b[1;36m0.000000\u001b[0m                    math\n",
       "\u001b[1;36m1\u001b[0m           \u001b[1;36m0.149229\u001b[0m  \u001b[1;36m0.000000\u001b[0m                \u001b[1;36m0.000000\u001b[0m           deep learning\n",
       "\u001b[1;36m2\u001b[0m           \u001b[1;36m0.001237\u001b[0m  \u001b[1;36m0.006893\u001b[0m                \u001b[1;36m0.005119\u001b[0m                    math\n",
       "\u001b[1;36m3\u001b[0m           \u001b[1;36m0.000037\u001b[0m  \u001b[1;36m0.033415\u001b[0m                \u001b[1;36m0.000000\u001b[0m                    math\n",
       "\u001b[1;36m4\u001b[0m           \u001b[1;36m0.002097\u001b[0m  \u001b[1;36m0.017937\u001b[0m                \u001b[1;36m0.012046\u001b[0m                    math\n",
       "\u001b[33m...\u001b[0m              \u001b[33m...\u001b[0m       \u001b[33m...\u001b[0m                     \u001b[33m...\u001b[0m                     \u001b[33m...\u001b[0m\n",
       "\u001b[1;36m20967\u001b[0m       \u001b[1;36m0.000000\u001b[0m  \u001b[1;36m0.000000\u001b[0m                \u001b[1;36m0.169086\u001b[0m  reinforcement learning\n",
       "\u001b[1;36m20968\u001b[0m       \u001b[1;36m0.000000\u001b[0m  \u001b[1;36m0.000000\u001b[0m                \u001b[1;36m0.000000\u001b[0m           deep learning\n",
       "\u001b[1;36m20969\u001b[0m       \u001b[1;36m0.001117\u001b[0m  \u001b[1;36m0.007017\u001b[0m                \u001b[1;36m0.002472\u001b[0m                    math\n",
       "\u001b[1;36m20970\u001b[0m       \u001b[1;36m0.001663\u001b[0m  \u001b[1;36m0.009334\u001b[0m                \u001b[1;36m0.004300\u001b[0m                    math\n",
       "\u001b[1;36m20971\u001b[0m       \u001b[1;36m0.000989\u001b[0m  \u001b[1;36m0.010718\u001b[0m                \u001b[1;36m0.002158\u001b[0m                    math\n",
       "\n",
       "\u001b[1m[\u001b[0m\u001b[1;36m20972\u001b[0m rows x \u001b[1;36m4\u001b[0m columns\u001b[1m]\u001b[0m"
      ]
     },
     "execution_count": 85,
     "metadata": {},
     "output_type": "execute_result"
    }
   ],
   "source": [
    "df_titles"
   ]
  },
  {
   "cell_type": "code",
   "execution_count": 91,
   "metadata": {},
   "outputs": [
    {
     "data": {
      "text/html": [
       "<pre style=\"white-space:pre;overflow-x:auto;line-height:normal;font-family:Menlo,'DejaVu Sans Mono',consolas,'Courier New',monospace\"></pre>\n"
      ],
      "text/plain": []
     },
     "metadata": {},
     "output_type": "display_data"
    },
    {
     "data": {
      "text/html": [
       "<div>\n",
       "<style scoped>\n",
       "    .dataframe tbody tr th:only-of-type {\n",
       "        vertical-align: middle;\n",
       "    }\n",
       "\n",
       "    .dataframe tbody tr th {\n",
       "        vertical-align: top;\n",
       "    }\n",
       "\n",
       "    .dataframe thead th {\n",
       "        text-align: right;\n",
       "    }\n",
       "</style>\n",
       "<table border=\"1\" class=\"dataframe\">\n",
       "  <thead>\n",
       "    <tr style=\"text-align: right;\">\n",
       "      <th></th>\n",
       "      <th>data</th>\n",
       "      <th>physics</th>\n",
       "      <th>math</th>\n",
       "      <th>machine learning</th>\n",
       "      <th>class</th>\n",
       "    </tr>\n",
       "  </thead>\n",
       "  <tbody>\n",
       "    <tr>\n",
       "      <th>0</th>\n",
       "      <td>0.058167</td>\n",
       "      <td>0.007393</td>\n",
       "      <td>0.000000</td>\n",
       "      <td>0.009623</td>\n",
       "      <td>data</td>\n",
       "    </tr>\n",
       "    <tr>\n",
       "      <th>1</th>\n",
       "      <td>0.000000</td>\n",
       "      <td>0.000000</td>\n",
       "      <td>0.002665</td>\n",
       "      <td>0.064351</td>\n",
       "      <td>machine learning</td>\n",
       "    </tr>\n",
       "    <tr>\n",
       "      <th>2</th>\n",
       "      <td>0.003349</td>\n",
       "      <td>0.000000</td>\n",
       "      <td>0.036629</td>\n",
       "      <td>0.000564</td>\n",
       "      <td>math</td>\n",
       "    </tr>\n",
       "    <tr>\n",
       "      <th>3</th>\n",
       "      <td>0.016493</td>\n",
       "      <td>0.016191</td>\n",
       "      <td>0.057782</td>\n",
       "      <td>0.000000</td>\n",
       "      <td>math</td>\n",
       "    </tr>\n",
       "    <tr>\n",
       "      <th>4</th>\n",
       "      <td>0.037817</td>\n",
       "      <td>0.004124</td>\n",
       "      <td>0.000000</td>\n",
       "      <td>0.018692</td>\n",
       "      <td>data</td>\n",
       "    </tr>\n",
       "    <tr>\n",
       "      <th>...</th>\n",
       "      <td>...</td>\n",
       "      <td>...</td>\n",
       "      <td>...</td>\n",
       "      <td>...</td>\n",
       "      <td>...</td>\n",
       "    </tr>\n",
       "    <tr>\n",
       "      <th>20967</th>\n",
       "      <td>0.030044</td>\n",
       "      <td>0.000000</td>\n",
       "      <td>0.000000</td>\n",
       "      <td>0.068329</td>\n",
       "      <td>machine learning</td>\n",
       "    </tr>\n",
       "    <tr>\n",
       "      <th>20968</th>\n",
       "      <td>0.005270</td>\n",
       "      <td>0.040468</td>\n",
       "      <td>0.004971</td>\n",
       "      <td>0.000000</td>\n",
       "      <td>physics</td>\n",
       "    </tr>\n",
       "    <tr>\n",
       "      <th>20969</th>\n",
       "      <td>0.009245</td>\n",
       "      <td>0.009795</td>\n",
       "      <td>0.004214</td>\n",
       "      <td>0.051813</td>\n",
       "      <td>machine learning</td>\n",
       "    </tr>\n",
       "    <tr>\n",
       "      <th>20970</th>\n",
       "      <td>0.049485</td>\n",
       "      <td>0.000000</td>\n",
       "      <td>0.009753</td>\n",
       "      <td>0.000000</td>\n",
       "      <td>data</td>\n",
       "    </tr>\n",
       "    <tr>\n",
       "      <th>20971</th>\n",
       "      <td>0.028922</td>\n",
       "      <td>0.000000</td>\n",
       "      <td>0.010667</td>\n",
       "      <td>0.000000</td>\n",
       "      <td>data</td>\n",
       "    </tr>\n",
       "  </tbody>\n",
       "</table>\n",
       "<p>20972 rows × 5 columns</p>\n",
       "</div>"
      ],
      "text/plain": [
       "\n",
       "           data   physics      math  machine learning             class\n",
       "\u001b[1;36m0\u001b[0m      \u001b[1;36m0.058167\u001b[0m  \u001b[1;36m0.007393\u001b[0m  \u001b[1;36m0.000000\u001b[0m          \u001b[1;36m0.009623\u001b[0m              data\n",
       "\u001b[1;36m1\u001b[0m      \u001b[1;36m0.000000\u001b[0m  \u001b[1;36m0.000000\u001b[0m  \u001b[1;36m0.002665\u001b[0m          \u001b[1;36m0.064351\u001b[0m  machine learning\n",
       "\u001b[1;36m2\u001b[0m      \u001b[1;36m0.003349\u001b[0m  \u001b[1;36m0.000000\u001b[0m  \u001b[1;36m0.036629\u001b[0m          \u001b[1;36m0.000564\u001b[0m              math\n",
       "\u001b[1;36m3\u001b[0m      \u001b[1;36m0.016493\u001b[0m  \u001b[1;36m0.016191\u001b[0m  \u001b[1;36m0.057782\u001b[0m          \u001b[1;36m0.000000\u001b[0m              math\n",
       "\u001b[1;36m4\u001b[0m      \u001b[1;36m0.037817\u001b[0m  \u001b[1;36m0.004124\u001b[0m  \u001b[1;36m0.000000\u001b[0m          \u001b[1;36m0.018692\u001b[0m              data\n",
       "\u001b[33m...\u001b[0m         \u001b[33m...\u001b[0m       \u001b[33m...\u001b[0m       \u001b[33m...\u001b[0m               \u001b[33m...\u001b[0m               \u001b[33m...\u001b[0m\n",
       "\u001b[1;36m20967\u001b[0m  \u001b[1;36m0.030044\u001b[0m  \u001b[1;36m0.000000\u001b[0m  \u001b[1;36m0.000000\u001b[0m          \u001b[1;36m0.068329\u001b[0m  machine learning\n",
       "\u001b[1;36m20968\u001b[0m  \u001b[1;36m0.005270\u001b[0m  \u001b[1;36m0.040468\u001b[0m  \u001b[1;36m0.004971\u001b[0m          \u001b[1;36m0.000000\u001b[0m           physics\n",
       "\u001b[1;36m20969\u001b[0m  \u001b[1;36m0.009245\u001b[0m  \u001b[1;36m0.009795\u001b[0m  \u001b[1;36m0.004214\u001b[0m          \u001b[1;36m0.051813\u001b[0m  machine learning\n",
       "\u001b[1;36m20970\u001b[0m  \u001b[1;36m0.049485\u001b[0m  \u001b[1;36m0.000000\u001b[0m  \u001b[1;36m0.009753\u001b[0m          \u001b[1;36m0.000000\u001b[0m              data\n",
       "\u001b[1;36m20971\u001b[0m  \u001b[1;36m0.028922\u001b[0m  \u001b[1;36m0.000000\u001b[0m  \u001b[1;36m0.010667\u001b[0m          \u001b[1;36m0.000000\u001b[0m              data\n",
       "\n",
       "\u001b[1m[\u001b[0m\u001b[1;36m20972\u001b[0m rows x \u001b[1;36m5\u001b[0m columns\u001b[1m]\u001b[0m"
      ]
     },
     "execution_count": 91,
     "metadata": {},
     "output_type": "execute_result"
    }
   ],
   "source": [
    "df_abstracts"
   ]
  },
  {
   "cell_type": "markdown",
   "metadata": {},
   "source": [
    "Let see what we get from the clustering vs the titles and abstracts"
   ]
  },
  {
   "cell_type": "code",
   "execution_count": 97,
   "metadata": {},
   "outputs": [
    {
     "data": {
      "text/html": [
       "<pre style=\"white-space:pre;overflow-x:auto;line-height:normal;font-family:Menlo,'DejaVu Sans Mono',consolas,'Courier New',monospace\"></pre>\n"
      ],
      "text/plain": []
     },
     "metadata": {},
     "output_type": "display_data"
    },
    {
     "data": {
      "text/html": [
       "<div>\n",
       "<style scoped>\n",
       "    .dataframe tbody tr th:only-of-type {\n",
       "        vertical-align: middle;\n",
       "    }\n",
       "\n",
       "    .dataframe tbody tr th {\n",
       "        vertical-align: top;\n",
       "    }\n",
       "\n",
       "    .dataframe thead th {\n",
       "        text-align: right;\n",
       "    }\n",
       "</style>\n",
       "<table border=\"1\" class=\"dataframe\">\n",
       "  <thead>\n",
       "    <tr style=\"text-align: right;\">\n",
       "      <th></th>\n",
       "      <th>ID</th>\n",
       "      <th>TITLE</th>\n",
       "      <th>ABSTRACT</th>\n",
       "      <th>Computer Science</th>\n",
       "      <th>Physics</th>\n",
       "      <th>Mathematics</th>\n",
       "      <th>Statistics</th>\n",
       "      <th>Quantitative Biology</th>\n",
       "      <th>Quantitative Finance</th>\n",
       "    </tr>\n",
       "  </thead>\n",
       "  <tbody>\n",
       "    <tr>\n",
       "      <th>0</th>\n",
       "      <td>1</td>\n",
       "      <td>reconstructing subject-specific effect</td>\n",
       "      <td>predictive model allow subject-specific infere...</td>\n",
       "      <td>1</td>\n",
       "      <td>0</td>\n",
       "      <td>0</td>\n",
       "      <td>0</td>\n",
       "      <td>0</td>\n",
       "      <td>0</td>\n",
       "    </tr>\n",
       "    <tr>\n",
       "      <th>1</th>\n",
       "      <td>2</td>\n",
       "      <td>rotation invariance neural network</td>\n",
       "      <td>rotation invariance translation invariance gre...</td>\n",
       "      <td>1</td>\n",
       "      <td>0</td>\n",
       "      <td>0</td>\n",
       "      <td>0</td>\n",
       "      <td>0</td>\n",
       "      <td>0</td>\n",
       "    </tr>\n",
       "    <tr>\n",
       "      <th>2</th>\n",
       "      <td>3</td>\n",
       "      <td>spherical polyharmonics poisson kernel polyhar...</td>\n",
       "      <td>introduce develop notion spherical polyharmoni...</td>\n",
       "      <td>0</td>\n",
       "      <td>0</td>\n",
       "      <td>1</td>\n",
       "      <td>0</td>\n",
       "      <td>0</td>\n",
       "      <td>0</td>\n",
       "    </tr>\n",
       "    <tr>\n",
       "      <th>3</th>\n",
       "      <td>4</td>\n",
       "      <td>finite element approximation stochastic maxwel...</td>\n",
       "      <td>stochastic landau lifshitz gilbert equation co...</td>\n",
       "      <td>0</td>\n",
       "      <td>0</td>\n",
       "      <td>1</td>\n",
       "      <td>0</td>\n",
       "      <td>0</td>\n",
       "      <td>0</td>\n",
       "    </tr>\n",
       "    <tr>\n",
       "      <th>4</th>\n",
       "      <td>5</td>\n",
       "      <td>comparative study discrete wavelet transforms ...</td>\n",
       "      <td>fourier-transform infra-red ftir spectrum samp...</td>\n",
       "      <td>1</td>\n",
       "      <td>0</td>\n",
       "      <td>0</td>\n",
       "      <td>1</td>\n",
       "      <td>0</td>\n",
       "      <td>0</td>\n",
       "    </tr>\n",
       "    <tr>\n",
       "      <th>5</th>\n",
       "      <td>6</td>\n",
       "      <td>maximizing fundamental frequency complement ob...</td>\n",
       "      <td>\\omega \\subset \\mathbb bounded domain satisfyi...</td>\n",
       "      <td>0</td>\n",
       "      <td>0</td>\n",
       "      <td>1</td>\n",
       "      <td>0</td>\n",
       "      <td>0</td>\n",
       "      <td>0</td>\n",
       "    </tr>\n",
       "    <tr>\n",
       "      <th>6</th>\n",
       "      <td>7</td>\n",
       "      <td>rotation period shape hyperbolic asteroid oumu...</td>\n",
       "      <td>observed newly discovered hyperbolic minor pla...</td>\n",
       "      <td>0</td>\n",
       "      <td>1</td>\n",
       "      <td>0</td>\n",
       "      <td>0</td>\n",
       "      <td>0</td>\n",
       "      <td>0</td>\n",
       "    </tr>\n",
       "    <tr>\n",
       "      <th>7</th>\n",
       "      <td>8</td>\n",
       "      <td>adverse effect polymer coating heat transport ...</td>\n",
       "      <td>ability metallic nanoparticles supply heat liq...</td>\n",
       "      <td>0</td>\n",
       "      <td>1</td>\n",
       "      <td>0</td>\n",
       "      <td>0</td>\n",
       "      <td>0</td>\n",
       "      <td>0</td>\n",
       "    </tr>\n",
       "    <tr>\n",
       "      <th>8</th>\n",
       "      <td>9</td>\n",
       "      <td>calculation mars-scale collision role equation...</td>\n",
       "      <td>model large-scale \\approx impact mars-like pla...</td>\n",
       "      <td>0</td>\n",
       "      <td>1</td>\n",
       "      <td>0</td>\n",
       "      <td>0</td>\n",
       "      <td>0</td>\n",
       "      <td>0</td>\n",
       "    </tr>\n",
       "    <tr>\n",
       "      <th>9</th>\n",
       "      <td>10</td>\n",
       "      <td>\\mathcal fails predict outbreak potential pres...</td>\n",
       "      <td>time varying susceptibility host individual le...</td>\n",
       "      <td>0</td>\n",
       "      <td>0</td>\n",
       "      <td>0</td>\n",
       "      <td>0</td>\n",
       "      <td>1</td>\n",
       "      <td>0</td>\n",
       "    </tr>\n",
       "  </tbody>\n",
       "</table>\n",
       "</div>"
      ],
      "text/plain": [
       "\n",
       "   ID                                              TITLE  \\\n",
       "\u001b[1;36m0\u001b[0m   \u001b[1;36m1\u001b[0m             reconstructing subject-specific effect   \n",
       "\u001b[1;36m1\u001b[0m   \u001b[1;36m2\u001b[0m                 rotation invariance neural network   \n",
       "\u001b[1;36m2\u001b[0m   \u001b[1;36m3\u001b[0m  spherical polyharmonics poisson kernel polyhar\u001b[33m...\u001b[0m   \n",
       "\u001b[1;36m3\u001b[0m   \u001b[1;36m4\u001b[0m  finite element approximation stochastic maxwel\u001b[33m...\u001b[0m   \n",
       "\u001b[1;36m4\u001b[0m   \u001b[1;36m5\u001b[0m  comparative study discrete wavelet transforms \u001b[33m...\u001b[0m   \n",
       "\u001b[1;36m5\u001b[0m   \u001b[1;36m6\u001b[0m  maximizing fundamental frequency complement ob\u001b[33m...\u001b[0m   \n",
       "\u001b[1;36m6\u001b[0m   \u001b[1;36m7\u001b[0m  rotation period shape hyperbolic asteroid oumu\u001b[33m...\u001b[0m   \n",
       "\u001b[1;36m7\u001b[0m   \u001b[1;36m8\u001b[0m  adverse effect polymer coating heat transport \u001b[33m...\u001b[0m   \n",
       "\u001b[1;36m8\u001b[0m   \u001b[1;36m9\u001b[0m  calculation mars-scale collision role equation\u001b[33m...\u001b[0m   \n",
       "\u001b[1;36m9\u001b[0m  \u001b[1;36m10\u001b[0m  \\mathcal fails predict outbreak potential pres\u001b[33m...\u001b[0m   \n",
       "\n",
       "                                            ABSTRACT  Computer Science  \\\n",
       "\u001b[1;36m0\u001b[0m  predictive model allow subject-specific infere\u001b[33m...\u001b[0m                 \u001b[1;36m1\u001b[0m   \n",
       "\u001b[1;36m1\u001b[0m  rotation invariance translation invariance gre\u001b[33m...\u001b[0m                 \u001b[1;36m1\u001b[0m   \n",
       "\u001b[1;36m2\u001b[0m  introduce develop notion spherical polyharmoni\u001b[33m...\u001b[0m                 \u001b[1;36m0\u001b[0m   \n",
       "\u001b[1;36m3\u001b[0m  stochastic landau lifshitz gilbert equation co\u001b[33m...\u001b[0m                 \u001b[1;36m0\u001b[0m   \n",
       "\u001b[1;36m4\u001b[0m  fourier-transform infra-red ftir spectrum samp\u001b[33m...\u001b[0m                 \u001b[1;36m1\u001b[0m   \n",
       "\u001b[1;36m5\u001b[0m  \\omega \\subset \\mathbb bounded domain satisfyi\u001b[33m...\u001b[0m                 \u001b[1;36m0\u001b[0m   \n",
       "\u001b[1;36m6\u001b[0m  observed newly discovered hyperbolic minor pla\u001b[33m...\u001b[0m                 \u001b[1;36m0\u001b[0m   \n",
       "\u001b[1;36m7\u001b[0m  ability metallic nanoparticles supply heat liq\u001b[33m...\u001b[0m                 \u001b[1;36m0\u001b[0m   \n",
       "\u001b[1;36m8\u001b[0m  model large-scale \\approx impact mars-like pla\u001b[33m...\u001b[0m                 \u001b[1;36m0\u001b[0m   \n",
       "\u001b[1;36m9\u001b[0m  time varying susceptibility host individual le\u001b[33m...\u001b[0m                 \u001b[1;36m0\u001b[0m   \n",
       "\n",
       "   Physics  Mathematics  Statistics  Quantitative Biology  \\\n",
       "\u001b[1;36m0\u001b[0m        \u001b[1;36m0\u001b[0m            \u001b[1;36m0\u001b[0m           \u001b[1;36m0\u001b[0m                     \u001b[1;36m0\u001b[0m   \n",
       "\u001b[1;36m1\u001b[0m        \u001b[1;36m0\u001b[0m            \u001b[1;36m0\u001b[0m           \u001b[1;36m0\u001b[0m                     \u001b[1;36m0\u001b[0m   \n",
       "\u001b[1;36m2\u001b[0m        \u001b[1;36m0\u001b[0m            \u001b[1;36m1\u001b[0m           \u001b[1;36m0\u001b[0m                     \u001b[1;36m0\u001b[0m   \n",
       "\u001b[1;36m3\u001b[0m        \u001b[1;36m0\u001b[0m            \u001b[1;36m1\u001b[0m           \u001b[1;36m0\u001b[0m                     \u001b[1;36m0\u001b[0m   \n",
       "\u001b[1;36m4\u001b[0m        \u001b[1;36m0\u001b[0m            \u001b[1;36m0\u001b[0m           \u001b[1;36m1\u001b[0m                     \u001b[1;36m0\u001b[0m   \n",
       "\u001b[1;36m5\u001b[0m        \u001b[1;36m0\u001b[0m            \u001b[1;36m1\u001b[0m           \u001b[1;36m0\u001b[0m                     \u001b[1;36m0\u001b[0m   \n",
       "\u001b[1;36m6\u001b[0m        \u001b[1;36m1\u001b[0m            \u001b[1;36m0\u001b[0m           \u001b[1;36m0\u001b[0m                     \u001b[1;36m0\u001b[0m   \n",
       "\u001b[1;36m7\u001b[0m        \u001b[1;36m1\u001b[0m            \u001b[1;36m0\u001b[0m           \u001b[1;36m0\u001b[0m                     \u001b[1;36m0\u001b[0m   \n",
       "\u001b[1;36m8\u001b[0m        \u001b[1;36m1\u001b[0m            \u001b[1;36m0\u001b[0m           \u001b[1;36m0\u001b[0m                     \u001b[1;36m0\u001b[0m   \n",
       "\u001b[1;36m9\u001b[0m        \u001b[1;36m0\u001b[0m            \u001b[1;36m0\u001b[0m           \u001b[1;36m0\u001b[0m                     \u001b[1;36m1\u001b[0m   \n",
       "\n",
       "   Quantitative Finance  \n",
       "\u001b[1;36m0\u001b[0m                     \u001b[1;36m0\u001b[0m  \n",
       "\u001b[1;36m1\u001b[0m                     \u001b[1;36m0\u001b[0m  \n",
       "\u001b[1;36m2\u001b[0m                     \u001b[1;36m0\u001b[0m  \n",
       "\u001b[1;36m3\u001b[0m                     \u001b[1;36m0\u001b[0m  \n",
       "\u001b[1;36m4\u001b[0m                     \u001b[1;36m0\u001b[0m  \n",
       "\u001b[1;36m5\u001b[0m                     \u001b[1;36m0\u001b[0m  \n",
       "\u001b[1;36m6\u001b[0m                     \u001b[1;36m0\u001b[0m  \n",
       "\u001b[1;36m7\u001b[0m                     \u001b[1;36m0\u001b[0m  \n",
       "\u001b[1;36m8\u001b[0m                     \u001b[1;36m0\u001b[0m  \n",
       "\u001b[1;36m9\u001b[0m                     \u001b[1;36m0\u001b[0m  "
      ]
     },
     "execution_count": 97,
     "metadata": {},
     "output_type": "execute_result"
    }
   ],
   "source": [
    "train.head(10)"
   ]
  },
  {
   "cell_type": "code",
   "execution_count": 98,
   "metadata": {},
   "outputs": [
    {
     "data": {
      "text/html": [
       "<pre style=\"white-space:pre;overflow-x:auto;line-height:normal;font-family:Menlo,'DejaVu Sans Mono',consolas,'Courier New',monospace\"></pre>\n"
      ],
      "text/plain": []
     },
     "metadata": {},
     "output_type": "display_data"
    },
    {
     "data": {
      "text/html": [
       "<div>\n",
       "<style scoped>\n",
       "    .dataframe tbody tr th:only-of-type {\n",
       "        vertical-align: middle;\n",
       "    }\n",
       "\n",
       "    .dataframe tbody tr th {\n",
       "        vertical-align: top;\n",
       "    }\n",
       "\n",
       "    .dataframe thead th {\n",
       "        text-align: right;\n",
       "    }\n",
       "</style>\n",
       "<table border=\"1\" class=\"dataframe\">\n",
       "  <thead>\n",
       "    <tr style=\"text-align: right;\">\n",
       "      <th></th>\n",
       "      <th>deep learning</th>\n",
       "      <th>math</th>\n",
       "      <th>reinforcement learning</th>\n",
       "      <th>class</th>\n",
       "    </tr>\n",
       "  </thead>\n",
       "  <tbody>\n",
       "    <tr>\n",
       "      <th>0</th>\n",
       "      <td>0.001364</td>\n",
       "      <td>0.010629</td>\n",
       "      <td>0.000000</td>\n",
       "      <td>math</td>\n",
       "    </tr>\n",
       "    <tr>\n",
       "      <th>1</th>\n",
       "      <td>0.149229</td>\n",
       "      <td>0.000000</td>\n",
       "      <td>0.000000</td>\n",
       "      <td>deep learning</td>\n",
       "    </tr>\n",
       "    <tr>\n",
       "      <th>2</th>\n",
       "      <td>0.001237</td>\n",
       "      <td>0.006893</td>\n",
       "      <td>0.005119</td>\n",
       "      <td>math</td>\n",
       "    </tr>\n",
       "    <tr>\n",
       "      <th>3</th>\n",
       "      <td>0.000037</td>\n",
       "      <td>0.033415</td>\n",
       "      <td>0.000000</td>\n",
       "      <td>math</td>\n",
       "    </tr>\n",
       "    <tr>\n",
       "      <th>4</th>\n",
       "      <td>0.002097</td>\n",
       "      <td>0.017937</td>\n",
       "      <td>0.012046</td>\n",
       "      <td>math</td>\n",
       "    </tr>\n",
       "    <tr>\n",
       "      <th>5</th>\n",
       "      <td>0.000000</td>\n",
       "      <td>0.000000</td>\n",
       "      <td>0.000000</td>\n",
       "      <td>deep learning</td>\n",
       "    </tr>\n",
       "    <tr>\n",
       "      <th>6</th>\n",
       "      <td>0.000000</td>\n",
       "      <td>0.000000</td>\n",
       "      <td>0.000000</td>\n",
       "      <td>deep learning</td>\n",
       "    </tr>\n",
       "    <tr>\n",
       "      <th>7</th>\n",
       "      <td>0.000949</td>\n",
       "      <td>0.008930</td>\n",
       "      <td>0.000000</td>\n",
       "      <td>math</td>\n",
       "    </tr>\n",
       "    <tr>\n",
       "      <th>8</th>\n",
       "      <td>0.003143</td>\n",
       "      <td>0.020337</td>\n",
       "      <td>0.000151</td>\n",
       "      <td>math</td>\n",
       "    </tr>\n",
       "    <tr>\n",
       "      <th>9</th>\n",
       "      <td>0.000316</td>\n",
       "      <td>0.002225</td>\n",
       "      <td>0.000000</td>\n",
       "      <td>math</td>\n",
       "    </tr>\n",
       "  </tbody>\n",
       "</table>\n",
       "</div>"
      ],
      "text/plain": [
       "\n",
       "   deep learning      math  reinforcement learning          class\n",
       "\u001b[1;36m0\u001b[0m       \u001b[1;36m0.001364\u001b[0m  \u001b[1;36m0.010629\u001b[0m                \u001b[1;36m0.000000\u001b[0m           math\n",
       "\u001b[1;36m1\u001b[0m       \u001b[1;36m0.149229\u001b[0m  \u001b[1;36m0.000000\u001b[0m                \u001b[1;36m0.000000\u001b[0m  deep learning\n",
       "\u001b[1;36m2\u001b[0m       \u001b[1;36m0.001237\u001b[0m  \u001b[1;36m0.006893\u001b[0m                \u001b[1;36m0.005119\u001b[0m           math\n",
       "\u001b[1;36m3\u001b[0m       \u001b[1;36m0.000037\u001b[0m  \u001b[1;36m0.033415\u001b[0m                \u001b[1;36m0.000000\u001b[0m           math\n",
       "\u001b[1;36m4\u001b[0m       \u001b[1;36m0.002097\u001b[0m  \u001b[1;36m0.017937\u001b[0m                \u001b[1;36m0.012046\u001b[0m           math\n",
       "\u001b[1;36m5\u001b[0m       \u001b[1;36m0.000000\u001b[0m  \u001b[1;36m0.000000\u001b[0m                \u001b[1;36m0.000000\u001b[0m  deep learning\n",
       "\u001b[1;36m6\u001b[0m       \u001b[1;36m0.000000\u001b[0m  \u001b[1;36m0.000000\u001b[0m                \u001b[1;36m0.000000\u001b[0m  deep learning\n",
       "\u001b[1;36m7\u001b[0m       \u001b[1;36m0.000949\u001b[0m  \u001b[1;36m0.008930\u001b[0m                \u001b[1;36m0.000000\u001b[0m           math\n",
       "\u001b[1;36m8\u001b[0m       \u001b[1;36m0.003143\u001b[0m  \u001b[1;36m0.020337\u001b[0m                \u001b[1;36m0.000151\u001b[0m           math\n",
       "\u001b[1;36m9\u001b[0m       \u001b[1;36m0.000316\u001b[0m  \u001b[1;36m0.002225\u001b[0m                \u001b[1;36m0.000000\u001b[0m           math"
      ]
     },
     "execution_count": 98,
     "metadata": {},
     "output_type": "execute_result"
    }
   ],
   "source": [
    "df_titles.head(10)"
   ]
  },
  {
   "cell_type": "code",
   "execution_count": 99,
   "metadata": {},
   "outputs": [
    {
     "data": {
      "text/html": [
       "<pre style=\"white-space:pre;overflow-x:auto;line-height:normal;font-family:Menlo,'DejaVu Sans Mono',consolas,'Courier New',monospace\"></pre>\n"
      ],
      "text/plain": []
     },
     "metadata": {},
     "output_type": "display_data"
    },
    {
     "data": {
      "text/html": [
       "<div>\n",
       "<style scoped>\n",
       "    .dataframe tbody tr th:only-of-type {\n",
       "        vertical-align: middle;\n",
       "    }\n",
       "\n",
       "    .dataframe tbody tr th {\n",
       "        vertical-align: top;\n",
       "    }\n",
       "\n",
       "    .dataframe thead th {\n",
       "        text-align: right;\n",
       "    }\n",
       "</style>\n",
       "<table border=\"1\" class=\"dataframe\">\n",
       "  <thead>\n",
       "    <tr style=\"text-align: right;\">\n",
       "      <th></th>\n",
       "      <th>data</th>\n",
       "      <th>physics</th>\n",
       "      <th>math</th>\n",
       "      <th>machine learning</th>\n",
       "      <th>class</th>\n",
       "    </tr>\n",
       "  </thead>\n",
       "  <tbody>\n",
       "    <tr>\n",
       "      <th>0</th>\n",
       "      <td>0.058167</td>\n",
       "      <td>0.007393</td>\n",
       "      <td>0.000000</td>\n",
       "      <td>0.009623</td>\n",
       "      <td>data</td>\n",
       "    </tr>\n",
       "    <tr>\n",
       "      <th>1</th>\n",
       "      <td>0.000000</td>\n",
       "      <td>0.000000</td>\n",
       "      <td>0.002665</td>\n",
       "      <td>0.064351</td>\n",
       "      <td>machine learning</td>\n",
       "    </tr>\n",
       "    <tr>\n",
       "      <th>2</th>\n",
       "      <td>0.003349</td>\n",
       "      <td>0.000000</td>\n",
       "      <td>0.036629</td>\n",
       "      <td>0.000564</td>\n",
       "      <td>math</td>\n",
       "    </tr>\n",
       "    <tr>\n",
       "      <th>3</th>\n",
       "      <td>0.016493</td>\n",
       "      <td>0.016191</td>\n",
       "      <td>0.057782</td>\n",
       "      <td>0.000000</td>\n",
       "      <td>math</td>\n",
       "    </tr>\n",
       "    <tr>\n",
       "      <th>4</th>\n",
       "      <td>0.037817</td>\n",
       "      <td>0.004124</td>\n",
       "      <td>0.000000</td>\n",
       "      <td>0.018692</td>\n",
       "      <td>data</td>\n",
       "    </tr>\n",
       "    <tr>\n",
       "      <th>5</th>\n",
       "      <td>0.000000</td>\n",
       "      <td>0.001540</td>\n",
       "      <td>0.048190</td>\n",
       "      <td>0.000000</td>\n",
       "      <td>math</td>\n",
       "    </tr>\n",
       "    <tr>\n",
       "      <th>6</th>\n",
       "      <td>0.004250</td>\n",
       "      <td>0.021278</td>\n",
       "      <td>0.003275</td>\n",
       "      <td>0.008485</td>\n",
       "      <td>physics</td>\n",
       "    </tr>\n",
       "    <tr>\n",
       "      <th>7</th>\n",
       "      <td>0.000000</td>\n",
       "      <td>0.055779</td>\n",
       "      <td>0.000000</td>\n",
       "      <td>0.002598</td>\n",
       "      <td>physics</td>\n",
       "    </tr>\n",
       "    <tr>\n",
       "      <th>8</th>\n",
       "      <td>0.002120</td>\n",
       "      <td>0.081910</td>\n",
       "      <td>0.000000</td>\n",
       "      <td>0.000000</td>\n",
       "      <td>physics</td>\n",
       "    </tr>\n",
       "    <tr>\n",
       "      <th>9</th>\n",
       "      <td>0.018125</td>\n",
       "      <td>0.029084</td>\n",
       "      <td>0.025437</td>\n",
       "      <td>0.008326</td>\n",
       "      <td>physics</td>\n",
       "    </tr>\n",
       "  </tbody>\n",
       "</table>\n",
       "</div>"
      ],
      "text/plain": [
       "\n",
       "       data   physics      math  machine learning             class\n",
       "\u001b[1;36m0\u001b[0m  \u001b[1;36m0.058167\u001b[0m  \u001b[1;36m0.007393\u001b[0m  \u001b[1;36m0.000000\u001b[0m          \u001b[1;36m0.009623\u001b[0m              data\n",
       "\u001b[1;36m1\u001b[0m  \u001b[1;36m0.000000\u001b[0m  \u001b[1;36m0.000000\u001b[0m  \u001b[1;36m0.002665\u001b[0m          \u001b[1;36m0.064351\u001b[0m  machine learning\n",
       "\u001b[1;36m2\u001b[0m  \u001b[1;36m0.003349\u001b[0m  \u001b[1;36m0.000000\u001b[0m  \u001b[1;36m0.036629\u001b[0m          \u001b[1;36m0.000564\u001b[0m              math\n",
       "\u001b[1;36m3\u001b[0m  \u001b[1;36m0.016493\u001b[0m  \u001b[1;36m0.016191\u001b[0m  \u001b[1;36m0.057782\u001b[0m          \u001b[1;36m0.000000\u001b[0m              math\n",
       "\u001b[1;36m4\u001b[0m  \u001b[1;36m0.037817\u001b[0m  \u001b[1;36m0.004124\u001b[0m  \u001b[1;36m0.000000\u001b[0m          \u001b[1;36m0.018692\u001b[0m              data\n",
       "\u001b[1;36m5\u001b[0m  \u001b[1;36m0.000000\u001b[0m  \u001b[1;36m0.001540\u001b[0m  \u001b[1;36m0.048190\u001b[0m          \u001b[1;36m0.000000\u001b[0m              math\n",
       "\u001b[1;36m6\u001b[0m  \u001b[1;36m0.004250\u001b[0m  \u001b[1;36m0.021278\u001b[0m  \u001b[1;36m0.003275\u001b[0m          \u001b[1;36m0.008485\u001b[0m           physics\n",
       "\u001b[1;36m7\u001b[0m  \u001b[1;36m0.000000\u001b[0m  \u001b[1;36m0.055779\u001b[0m  \u001b[1;36m0.000000\u001b[0m          \u001b[1;36m0.002598\u001b[0m           physics\n",
       "\u001b[1;36m8\u001b[0m  \u001b[1;36m0.002120\u001b[0m  \u001b[1;36m0.081910\u001b[0m  \u001b[1;36m0.000000\u001b[0m          \u001b[1;36m0.000000\u001b[0m           physics\n",
       "\u001b[1;36m9\u001b[0m  \u001b[1;36m0.018125\u001b[0m  \u001b[1;36m0.029084\u001b[0m  \u001b[1;36m0.025437\u001b[0m          \u001b[1;36m0.008326\u001b[0m           physics"
      ]
     },
     "execution_count": 99,
     "metadata": {},
     "output_type": "execute_result"
    }
   ],
   "source": [
    "df_abstracts.head(10)"
   ]
  },
  {
   "cell_type": "markdown",
   "metadata": {},
   "source": [
    "**Final conclusion**\n",
    "\n",
    "The clustering is very good, you can read the titles and abstracts, and the labeling is pretty accurate.\n",
    "\n",
    "This is a faster way to label tons of data which have not been labeled previuosly.\n",
    "\n",
    "Disclaimer: the labels provided in the original dataset were ignored because this is not in the scope of the model."
   ]
  }
 ],
 "metadata": {
  "kernelspec": {
   "display_name": "kedro",
   "language": "python",
   "name": "python3"
  },
  "language_info": {
   "codemirror_mode": {
    "name": "ipython",
    "version": 3
   },
   "file_extension": ".py",
   "mimetype": "text/x-python",
   "name": "python",
   "nbconvert_exporter": "python",
   "pygments_lexer": "ipython3",
   "version": "3.11.9"
  }
 },
 "nbformat": 4,
 "nbformat_minor": 2
}
